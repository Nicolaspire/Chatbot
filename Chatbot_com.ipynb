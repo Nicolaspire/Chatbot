{
  "nbformat": 4,
  "nbformat_minor": 0,
  "metadata": {
    "colab": {
      "provenance": [],
      "authorship_tag": "ABX9TyOw3UgV7SbEsheMaHSF94YQ",
      "include_colab_link": true
    },
    "kernelspec": {
      "name": "python3",
      "display_name": "Python 3"
    },
    "language_info": {
      "name": "python"
    }
  },
  "cells": [
    {
      "cell_type": "markdown",
      "metadata": {
        "id": "view-in-github",
        "colab_type": "text"
      },
      "source": [
        "<a href=\"https://colab.research.google.com/github/Nicolaspire/Chatbot/blob/main/Chatbot_com.ipynb\" target=\"_parent\"><img src=\"https://colab.research.google.com/assets/colab-badge.svg\" alt=\"Open In Colab\"/></a>"
      ]
    },
    {
      "cell_type": "markdown",
      "source": [
        "Chatbot.com"
      ],
      "metadata": {
        "id": "qOIr-oFDxgkm"
      }
    },
    {
      "cell_type": "code",
      "execution_count": null,
      "metadata": {
        "id": "QPO5VXuFxHSU",
        "collapsed": true
      },
      "outputs": [],
      "source": [
        "import os\n",
        "\n",
        "\n",
        "def processar_resposta(resposta, nome):\n",
        "    if resposta == '1':\n",
        "        print(f'{os.linesep}{nome} na minha visão vale muito apena, isso porque Python é uma das linguagens que mais cresce no mundo e possui salários mensais que vão desde R$2100,00 a até mais R$10000,00 no Brasil, além de contar com uma média anual de $85.000 dolares nos EUA.{os.linesep}')\n",
        "    elif resposta == '2':\n",
        "        print(f'{os.linesep}{nome} isso varia muito com o nível de esforço, dedicação e busca diária por vagas de cada indivíduo. Alguns conseguem com menos de 3 meses e outros com mais, tudo depende do quanto você já sabe ou está disposto a correr atrás para aprender.{os.linesep}')\n",
        "    elif resposta == '3':\n",
        "        print(f'{os.linesep}{nome}, primeiro entenda, ninguém vai te dizer ou chegar magicamente um dia e te dizer que você está BOM o suficiente para conseguir um emprego ou fazer dinheiro com seu conhecimento de programação, seja em Python ou qualquer outra linguagem ou habilidade, você simplesmente tem que começar dar a sua cara a tapa e começar a aplicar para oportunidades ou até mesmo começar a criar elas, desde o dia que você já domina os fundamentos de uma linguagem(se estamos falando de Python, recomendo aprender no mínimo os 5 pilares de programação.{os.linesep}')\n",
        "    elif resposta == '4':\n",
        "        print(f'{os.linesep}{nome} você pode estudar através de vídeos gratúitos no YouTube, livros e sites de programação, porém se buscar um lugar com suporte 1 a 1, estrutura sequencial, projetos novos todos os meses dos ano e um curso que vai te ensinar toda a base e habilidades mais lucrativas que precisa para criar aplicações em python e estar pronto para o mercado, recomendo o cursodepython.net.{os.linesep}')\n",
        "    else:\n",
        "        print('Digite apenas 1, 2, 3 ou 4')\n",
        "\n",
        "def start():\n",
        "    # Apresentar o chatbot\n",
        "    print('Olá! Bem-vindo a Devaprender.com')\n",
        "    # pedir o nome\n",
        "    nome = input('Digite seu nome: ')\n",
        "    # pedir o e-mail\n",
        "    email = input('Digite seu e-mail: ')\n",
        "    while True:\n",
        "        # Oferer o menu de opções\n",
        "        resposta = input(\n",
        "            f'O que gostaria de saber hoje?{os.linesep}[1] - Vale a pena aprender Python?{os.linesep}[2] - Quanto tempo leva para conseguir um emprego com Python?{os.linesep}[3] - Quando vou saber que estou BOM o suficiente para conseguir um emprego?{os.linesep}[4] - Onde me recomenda estudar Python para conseguir um emprego hoje?{os.linesep}')\n",
        "        # Processar a resposta enviada\n",
        "        processar_resposta(resposta, nome)\n",
        "\n",
        "\n",
        "if __name__ == '__main__':\n",
        "    start()"
      ]
    }
  ]
}